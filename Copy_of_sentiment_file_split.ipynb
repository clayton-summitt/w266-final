{
  "nbformat": 4,
  "nbformat_minor": 0,
  "metadata": {
    "colab": {
      "name": "Copy of sentiment file split.ipynb",
      "provenance": [],
      "authorship_tag": "ABX9TyOamxlIgiRVMhUmJvqPwZhe",
      "include_colab_link": true
    },
    "kernelspec": {
      "name": "python3",
      "display_name": "Python 3"
    },
    "language_info": {
      "name": "python"
    }
  },
  "cells": [
    {
      "cell_type": "markdown",
      "metadata": {
        "id": "view-in-github",
        "colab_type": "text"
      },
      "source": [
        "<a href=\"https://colab.research.google.com/github/clayton-summitt/w266-final/blob/main/Copy_of_sentiment_file_split.ipynb\" target=\"_parent\"><img src=\"https://colab.research.google.com/assets/colab-badge.svg\" alt=\"Open In Colab\"/></a>"
      ]
    },
    {
      "cell_type": "code",
      "metadata": {
        "colab": {
          "base_uri": "https://localhost:8080/"
        },
        "id": "WRO2izbAHJVS",
        "outputId": "84906a6e-30b5-4545-d293-6dbd2947cf34"
      },
      "source": [
        "from numpy.random import RandomState\n",
        "import pandas as pd\n",
        "import os\n",
        "from google.colab import files\n",
        "from google.colab import drive\n",
        "drive.mount('/content/drive' ,force_remount=True)\n",
        "os.chdir(\"drive/MyDrive/vaccine/data/\")\n"
      ],
      "execution_count": null,
      "outputs": [
        {
          "output_type": "stream",
          "name": "stdout",
          "text": [
            "Mounted at /content/drive\n"
          ]
        }
      ]
    },
    {
      "cell_type": "code",
      "metadata": {
        "id": "j-CQQpJIH9Qr"
      },
      "source": [
        "\n",
        "df = pd.read_csv(\"covid-19_vaccine_tweets_with_sentiment.csv\", encoding = 'unicode_escape')\n",
        "\n",
        "df['label2'] = df['label'].apply(lambda x: x-1)\n",
        "\n",
        "train = df.sample(frac=0.7,random_state =42  )\n",
        "test = df.loc[~df.index.isin(train.index)]\n",
        "\n",
        "\n"
      ],
      "execution_count": null,
      "outputs": []
    },
    {
      "cell_type": "code",
      "metadata": {
        "colab": {
          "base_uri": "https://localhost:8080/"
        },
        "id": "7YB5rdvVV6ac",
        "outputId": "7a5ee924-8eea-452d-c18e-73ef80d73269"
      },
      "source": [
        ""
      ],
      "execution_count": null,
      "outputs": [
        {
          "output_type": "execute_result",
          "data": {
            "text/plain": [
              "array([0, 1, 2])"
            ]
          },
          "metadata": {},
          "execution_count": 30
        }
      ]
    },
    {
      "cell_type": "code",
      "metadata": {
        "colab": {
          "base_uri": "https://localhost:8080/"
        },
        "id": "wQ9oi8zuH0Zn",
        "outputId": "f591ad6a-600e-477f-f0a9-3f5b360bd85f"
      },
      "source": [
        "df.shape"
      ],
      "execution_count": null,
      "outputs": [
        {
          "output_type": "execute_result",
          "data": {
            "text/plain": [
              "(6000, 4)"
            ]
          },
          "metadata": {},
          "execution_count": 32
        }
      ]
    },
    {
      "cell_type": "code",
      "metadata": {
        "colab": {
          "base_uri": "https://localhost:8080/"
        },
        "id": "pchTQTM9S-_g",
        "outputId": "86c13dbe-ca78-4e74-cd18-baa4d8fee793"
      },
      "source": [
        "train.shape"
      ],
      "execution_count": null,
      "outputs": [
        {
          "output_type": "execute_result",
          "data": {
            "text/plain": [
              "(4200, 4)"
            ]
          },
          "metadata": {},
          "execution_count": 33
        }
      ]
    },
    {
      "cell_type": "code",
      "metadata": {
        "id": "7_Fcnrr_TGk9"
      },
      "source": [
        "train_2 = train.sample(frac=0.8,random_state =42  )\n",
        "val = train.loc[~train.index.isin(train_2.index)]"
      ],
      "execution_count": null,
      "outputs": []
    },
    {
      "cell_type": "code",
      "metadata": {
        "colab": {
          "base_uri": "https://localhost:8080/"
        },
        "id": "P7jXog-TUJ8o",
        "outputId": "5e111d58-e8dc-43e9-f5a1-f7df268b0398"
      },
      "source": [
        "train_2.shape, val.shape"
      ],
      "execution_count": null,
      "outputs": [
        {
          "output_type": "execute_result",
          "data": {
            "text/plain": [
              "((3360, 4), (840, 4))"
            ]
          },
          "metadata": {},
          "execution_count": 35
        }
      ]
    },
    {
      "cell_type": "code",
      "metadata": {
        "colab": {
          "base_uri": "https://localhost:8080/"
        },
        "id": "SwnDVl_IUNlq",
        "outputId": "788b412a-812a-4d2d-bee6-2c507f4c0c1b"
      },
      "source": [
        "df.columns"
      ],
      "execution_count": null,
      "outputs": [
        {
          "output_type": "execute_result",
          "data": {
            "text/plain": [
              "Index(['tweet_id', 'label', 'tweet_text', 'label2'], dtype='object')"
            ]
          },
          "metadata": {},
          "execution_count": 36
        }
      ]
    },
    {
      "cell_type": "code",
      "metadata": {
        "id": "OenN2F_0V0dT"
      },
      "source": [
        "os.chdir('fine_tune_sentimnet')"
      ],
      "execution_count": null,
      "outputs": []
    },
    {
      "cell_type": "code",
      "metadata": {
        "id": "fO6DhkJwXJ9b"
      },
      "source": [
        "test['label2'].to_csv('test_labels.txt', sep=' ', index=False, header=False)\n",
        "test['tweet_text'].to_csv(' test_text.txt', sep=' ', index=False, header=False)\n",
        "\n",
        "train['label2'].to_csv('train_labels.txt', sep=' ', index=False, header=False)\n",
        "\n",
        "train['tweet_text'].to_csv('train_text.txt', sep=' ', index=False, header=False)\n",
        "\n",
        "val['label2'].to_csv('val_labels.txt', sep=' ', index=False, header=False)\n",
        "\n",
        "val['tweet_text'].to_csv('val_text.txt', sep=' ', index=False, header=False)\n"
      ],
      "execution_count": null,
      "outputs": []
    },
    {
      "cell_type": "code",
      "metadata": {
        "id": "iT4m4e-FYksL"
      },
      "source": [
        ""
      ],
      "execution_count": null,
      "outputs": []
    },
    {
      "cell_type": "code",
      "metadata": {
        "id": "AOZMxmm2geOj"
      },
      "source": [
        ""
      ],
      "execution_count": null,
      "outputs": []
    }
  ]
}