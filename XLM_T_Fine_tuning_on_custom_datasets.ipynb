{
  "nbformat": 4,
  "nbformat_minor": 0,
  "metadata": {
    "colab": {
      "name": "XLM-T - Fine-tuning on custom datasets",
      "provenance": [],
      "collapsed_sections": [],
      "toc_visible": true,
      "machine_shape": "hm",
      "include_colab_link": true
    },
    "language_info": {
      "name": "python"
    },
    "kernelspec": {
      "name": "python3",
      "display_name": "Python 3"
    },
    "widgets": {
      "application/vnd.jupyter.widget-state+json": {
        "9b2b5f79da334c19b409a093dc0fbc6f": {
          "model_module": "@jupyter-widgets/controls",
          "model_name": "HBoxModel",
          "model_module_version": "1.5.0",
          "state": {
            "_view_name": "HBoxView",
            "_dom_classes": [],
            "_model_name": "HBoxModel",
            "_view_module": "@jupyter-widgets/controls",
            "_model_module_version": "1.5.0",
            "_view_count": null,
            "_view_module_version": "1.5.0",
            "box_style": "",
            "layout": "IPY_MODEL_9aa23260028d4f4eb29d5b85bbd7dcf8",
            "_model_module": "@jupyter-widgets/controls",
            "children": [
              "IPY_MODEL_d800339eb7a04efabefcb938a4232eed",
              "IPY_MODEL_1287f5ecbf4b40a4aeb3ee754e2aa122",
              "IPY_MODEL_35e64627741d450a9ea24c7d77ad8b8f"
            ]
          }
        },
        "9aa23260028d4f4eb29d5b85bbd7dcf8": {
          "model_module": "@jupyter-widgets/base",
          "model_name": "LayoutModel",
          "model_module_version": "1.2.0",
          "state": {
            "_view_name": "LayoutView",
            "grid_template_rows": null,
            "right": null,
            "justify_content": null,
            "_view_module": "@jupyter-widgets/base",
            "overflow": null,
            "_model_module_version": "1.2.0",
            "_view_count": null,
            "flex_flow": null,
            "width": null,
            "min_width": null,
            "border": null,
            "align_items": null,
            "bottom": null,
            "_model_module": "@jupyter-widgets/base",
            "top": null,
            "grid_column": null,
            "overflow_y": null,
            "overflow_x": null,
            "grid_auto_flow": null,
            "grid_area": null,
            "grid_template_columns": null,
            "flex": null,
            "_model_name": "LayoutModel",
            "justify_items": null,
            "grid_row": null,
            "max_height": null,
            "align_content": null,
            "visibility": null,
            "align_self": null,
            "height": null,
            "min_height": null,
            "padding": null,
            "grid_auto_rows": null,
            "grid_gap": null,
            "max_width": null,
            "order": null,
            "_view_module_version": "1.2.0",
            "grid_template_areas": null,
            "object_position": null,
            "object_fit": null,
            "grid_auto_columns": null,
            "margin": null,
            "display": null,
            "left": null
          }
        },
        "d800339eb7a04efabefcb938a4232eed": {
          "model_module": "@jupyter-widgets/controls",
          "model_name": "HTMLModel",
          "model_module_version": "1.5.0",
          "state": {
            "_view_name": "HTMLView",
            "style": "IPY_MODEL_853287abd37c4a87aff5c81e8c6c2d16",
            "_dom_classes": [],
            "description": "",
            "_model_name": "HTMLModel",
            "placeholder": "​",
            "_view_module": "@jupyter-widgets/controls",
            "_model_module_version": "1.5.0",
            "value": "Downloading: 100%",
            "_view_count": null,
            "_view_module_version": "1.5.0",
            "description_tooltip": null,
            "_model_module": "@jupyter-widgets/controls",
            "layout": "IPY_MODEL_f2dd851b1b6443838c4f95305ac1d660"
          }
        },
        "1287f5ecbf4b40a4aeb3ee754e2aa122": {
          "model_module": "@jupyter-widgets/controls",
          "model_name": "FloatProgressModel",
          "model_module_version": "1.5.0",
          "state": {
            "_view_name": "ProgressView",
            "style": "IPY_MODEL_d2624417bb6740db97b028f8dd7571d3",
            "_dom_classes": [],
            "description": "",
            "_model_name": "FloatProgressModel",
            "bar_style": "success",
            "max": 841,
            "_view_module": "@jupyter-widgets/controls",
            "_model_module_version": "1.5.0",
            "value": 841,
            "_view_count": null,
            "_view_module_version": "1.5.0",
            "orientation": "horizontal",
            "min": 0,
            "description_tooltip": null,
            "_model_module": "@jupyter-widgets/controls",
            "layout": "IPY_MODEL_c644b0268e5341048034af010d759f26"
          }
        },
        "35e64627741d450a9ea24c7d77ad8b8f": {
          "model_module": "@jupyter-widgets/controls",
          "model_name": "HTMLModel",
          "model_module_version": "1.5.0",
          "state": {
            "_view_name": "HTMLView",
            "style": "IPY_MODEL_771c17204f004746b4e84530f3981ec2",
            "_dom_classes": [],
            "description": "",
            "_model_name": "HTMLModel",
            "placeholder": "​",
            "_view_module": "@jupyter-widgets/controls",
            "_model_module_version": "1.5.0",
            "value": " 841/841 [00:00&lt;00:00, 32.8kB/s]",
            "_view_count": null,
            "_view_module_version": "1.5.0",
            "description_tooltip": null,
            "_model_module": "@jupyter-widgets/controls",
            "layout": "IPY_MODEL_5024dc16e5c44d80ab31c2eddf42ab47"
          }
        },
        "853287abd37c4a87aff5c81e8c6c2d16": {
          "model_module": "@jupyter-widgets/controls",
          "model_name": "DescriptionStyleModel",
          "model_module_version": "1.5.0",
          "state": {
            "_view_name": "StyleView",
            "_model_name": "DescriptionStyleModel",
            "description_width": "",
            "_view_module": "@jupyter-widgets/base",
            "_model_module_version": "1.5.0",
            "_view_count": null,
            "_view_module_version": "1.2.0",
            "_model_module": "@jupyter-widgets/controls"
          }
        },
        "f2dd851b1b6443838c4f95305ac1d660": {
          "model_module": "@jupyter-widgets/base",
          "model_name": "LayoutModel",
          "model_module_version": "1.2.0",
          "state": {
            "_view_name": "LayoutView",
            "grid_template_rows": null,
            "right": null,
            "justify_content": null,
            "_view_module": "@jupyter-widgets/base",
            "overflow": null,
            "_model_module_version": "1.2.0",
            "_view_count": null,
            "flex_flow": null,
            "width": null,
            "min_width": null,
            "border": null,
            "align_items": null,
            "bottom": null,
            "_model_module": "@jupyter-widgets/base",
            "top": null,
            "grid_column": null,
            "overflow_y": null,
            "overflow_x": null,
            "grid_auto_flow": null,
            "grid_area": null,
            "grid_template_columns": null,
            "flex": null,
            "_model_name": "LayoutModel",
            "justify_items": null,
            "grid_row": null,
            "max_height": null,
            "align_content": null,
            "visibility": null,
            "align_self": null,
            "height": null,
            "min_height": null,
            "padding": null,
            "grid_auto_rows": null,
            "grid_gap": null,
            "max_width": null,
            "order": null,
            "_view_module_version": "1.2.0",
            "grid_template_areas": null,
            "object_position": null,
            "object_fit": null,
            "grid_auto_columns": null,
            "margin": null,
            "display": null,
            "left": null
          }
        },
        "d2624417bb6740db97b028f8dd7571d3": {
          "model_module": "@jupyter-widgets/controls",
          "model_name": "ProgressStyleModel",
          "model_module_version": "1.5.0",
          "state": {
            "_view_name": "StyleView",
            "_model_name": "ProgressStyleModel",
            "description_width": "",
            "_view_module": "@jupyter-widgets/base",
            "_model_module_version": "1.5.0",
            "_view_count": null,
            "_view_module_version": "1.2.0",
            "bar_color": null,
            "_model_module": "@jupyter-widgets/controls"
          }
        },
        "c644b0268e5341048034af010d759f26": {
          "model_module": "@jupyter-widgets/base",
          "model_name": "LayoutModel",
          "model_module_version": "1.2.0",
          "state": {
            "_view_name": "LayoutView",
            "grid_template_rows": null,
            "right": null,
            "justify_content": null,
            "_view_module": "@jupyter-widgets/base",
            "overflow": null,
            "_model_module_version": "1.2.0",
            "_view_count": null,
            "flex_flow": null,
            "width": null,
            "min_width": null,
            "border": null,
            "align_items": null,
            "bottom": null,
            "_model_module": "@jupyter-widgets/base",
            "top": null,
            "grid_column": null,
            "overflow_y": null,
            "overflow_x": null,
            "grid_auto_flow": null,
            "grid_area": null,
            "grid_template_columns": null,
            "flex": null,
            "_model_name": "LayoutModel",
            "justify_items": null,
            "grid_row": null,
            "max_height": null,
            "align_content": null,
            "visibility": null,
            "align_self": null,
            "height": null,
            "min_height": null,
            "padding": null,
            "grid_auto_rows": null,
            "grid_gap": null,
            "max_width": null,
            "order": null,
            "_view_module_version": "1.2.0",
            "grid_template_areas": null,
            "object_position": null,
            "object_fit": null,
            "grid_auto_columns": null,
            "margin": null,
            "display": null,
            "left": null
          }
        },
        "771c17204f004746b4e84530f3981ec2": {
          "model_module": "@jupyter-widgets/controls",
          "model_name": "DescriptionStyleModel",
          "model_module_version": "1.5.0",
          "state": {
            "_view_name": "StyleView",
            "_model_name": "DescriptionStyleModel",
            "description_width": "",
            "_view_module": "@jupyter-widgets/base",
            "_model_module_version": "1.5.0",
            "_view_count": null,
            "_view_module_version": "1.2.0",
            "_model_module": "@jupyter-widgets/controls"
          }
        },
        "5024dc16e5c44d80ab31c2eddf42ab47": {
          "model_module": "@jupyter-widgets/base",
          "model_name": "LayoutModel",
          "model_module_version": "1.2.0",
          "state": {
            "_view_name": "LayoutView",
            "grid_template_rows": null,
            "right": null,
            "justify_content": null,
            "_view_module": "@jupyter-widgets/base",
            "overflow": null,
            "_model_module_version": "1.2.0",
            "_view_count": null,
            "flex_flow": null,
            "width": null,
            "min_width": null,
            "border": null,
            "align_items": null,
            "bottom": null,
            "_model_module": "@jupyter-widgets/base",
            "top": null,
            "grid_column": null,
            "overflow_y": null,
            "overflow_x": null,
            "grid_auto_flow": null,
            "grid_area": null,
            "grid_template_columns": null,
            "flex": null,
            "_model_name": "LayoutModel",
            "justify_items": null,
            "grid_row": null,
            "max_height": null,
            "align_content": null,
            "visibility": null,
            "align_self": null,
            "height": null,
            "min_height": null,
            "padding": null,
            "grid_auto_rows": null,
            "grid_gap": null,
            "max_width": null,
            "order": null,
            "_view_module_version": "1.2.0",
            "grid_template_areas": null,
            "object_position": null,
            "object_fit": null,
            "grid_auto_columns": null,
            "margin": null,
            "display": null,
            "left": null
          }
        },
        "2929002244ae4efba46ddd4b69fe7b22": {
          "model_module": "@jupyter-widgets/controls",
          "model_name": "HBoxModel",
          "model_module_version": "1.5.0",
          "state": {
            "_view_name": "HBoxView",
            "_dom_classes": [],
            "_model_name": "HBoxModel",
            "_view_module": "@jupyter-widgets/controls",
            "_model_module_version": "1.5.0",
            "_view_count": null,
            "_view_module_version": "1.5.0",
            "box_style": "",
            "layout": "IPY_MODEL_cbc394d5662848e6b730088b3b06c931",
            "_model_module": "@jupyter-widgets/controls",
            "children": [
              "IPY_MODEL_6621a038d6d44152be17cad25f750798",
              "IPY_MODEL_32aec36d43a84f3bb3f556857277385d",
              "IPY_MODEL_3e3e479011f047eca2d74f86df5c8164"
            ]
          }
        },
        "cbc394d5662848e6b730088b3b06c931": {
          "model_module": "@jupyter-widgets/base",
          "model_name": "LayoutModel",
          "model_module_version": "1.2.0",
          "state": {
            "_view_name": "LayoutView",
            "grid_template_rows": null,
            "right": null,
            "justify_content": null,
            "_view_module": "@jupyter-widgets/base",
            "overflow": null,
            "_model_module_version": "1.2.0",
            "_view_count": null,
            "flex_flow": null,
            "width": null,
            "min_width": null,
            "border": null,
            "align_items": null,
            "bottom": null,
            "_model_module": "@jupyter-widgets/base",
            "top": null,
            "grid_column": null,
            "overflow_y": null,
            "overflow_x": null,
            "grid_auto_flow": null,
            "grid_area": null,
            "grid_template_columns": null,
            "flex": null,
            "_model_name": "LayoutModel",
            "justify_items": null,
            "grid_row": null,
            "max_height": null,
            "align_content": null,
            "visibility": null,
            "align_self": null,
            "height": null,
            "min_height": null,
            "padding": null,
            "grid_auto_rows": null,
            "grid_gap": null,
            "max_width": null,
            "order": null,
            "_view_module_version": "1.2.0",
            "grid_template_areas": null,
            "object_position": null,
            "object_fit": null,
            "grid_auto_columns": null,
            "margin": null,
            "display": null,
            "left": null
          }
        },
        "6621a038d6d44152be17cad25f750798": {
          "model_module": "@jupyter-widgets/controls",
          "model_name": "HTMLModel",
          "model_module_version": "1.5.0",
          "state": {
            "_view_name": "HTMLView",
            "style": "IPY_MODEL_a21bd6773a354ebc8ce389819c898cf8",
            "_dom_classes": [],
            "description": "",
            "_model_name": "HTMLModel",
            "placeholder": "​",
            "_view_module": "@jupyter-widgets/controls",
            "_model_module_version": "1.5.0",
            "value": "Downloading: 100%",
            "_view_count": null,
            "_view_module_version": "1.5.0",
            "description_tooltip": null,
            "_model_module": "@jupyter-widgets/controls",
            "layout": "IPY_MODEL_cfa08f3ea06c4bc084759020d17f02c4"
          }
        },
        "32aec36d43a84f3bb3f556857277385d": {
          "model_module": "@jupyter-widgets/controls",
          "model_name": "FloatProgressModel",
          "model_module_version": "1.5.0",
          "state": {
            "_view_name": "ProgressView",
            "style": "IPY_MODEL_79d3d50fc41a4d2aaed8890968be64d1",
            "_dom_classes": [],
            "description": "",
            "_model_name": "FloatProgressModel",
            "bar_style": "success",
            "max": 5069051,
            "_view_module": "@jupyter-widgets/controls",
            "_model_module_version": "1.5.0",
            "value": 5069051,
            "_view_count": null,
            "_view_module_version": "1.5.0",
            "orientation": "horizontal",
            "min": 0,
            "description_tooltip": null,
            "_model_module": "@jupyter-widgets/controls",
            "layout": "IPY_MODEL_b3f5dddc20224633ae719ce7d909ed0a"
          }
        },
        "3e3e479011f047eca2d74f86df5c8164": {
          "model_module": "@jupyter-widgets/controls",
          "model_name": "HTMLModel",
          "model_module_version": "1.5.0",
          "state": {
            "_view_name": "HTMLView",
            "style": "IPY_MODEL_4b44d53e19d941dbb894180a4037ec00",
            "_dom_classes": [],
            "description": "",
            "_model_name": "HTMLModel",
            "placeholder": "​",
            "_view_module": "@jupyter-widgets/controls",
            "_model_module_version": "1.5.0",
            "value": " 4.83M/4.83M [00:00&lt;00:00, 26.3MB/s]",
            "_view_count": null,
            "_view_module_version": "1.5.0",
            "description_tooltip": null,
            "_model_module": "@jupyter-widgets/controls",
            "layout": "IPY_MODEL_3621163ce3234d68bcde422c45ff00af"
          }
        },
        "a21bd6773a354ebc8ce389819c898cf8": {
          "model_module": "@jupyter-widgets/controls",
          "model_name": "DescriptionStyleModel",
          "model_module_version": "1.5.0",
          "state": {
            "_view_name": "StyleView",
            "_model_name": "DescriptionStyleModel",
            "description_width": "",
            "_view_module": "@jupyter-widgets/base",
            "_model_module_version": "1.5.0",
            "_view_count": null,
            "_view_module_version": "1.2.0",
            "_model_module": "@jupyter-widgets/controls"
          }
        },
        "cfa08f3ea06c4bc084759020d17f02c4": {
          "model_module": "@jupyter-widgets/base",
          "model_name": "LayoutModel",
          "model_module_version": "1.2.0",
          "state": {
            "_view_name": "LayoutView",
            "grid_template_rows": null,
            "right": null,
            "justify_content": null,
            "_view_module": "@jupyter-widgets/base",
            "overflow": null,
            "_model_module_version": "1.2.0",
            "_view_count": null,
            "flex_flow": null,
            "width": null,
            "min_width": null,
            "border": null,
            "align_items": null,
            "bottom": null,
            "_model_module": "@jupyter-widgets/base",
            "top": null,
            "grid_column": null,
            "overflow_y": null,
            "overflow_x": null,
            "grid_auto_flow": null,
            "grid_area": null,
            "grid_template_columns": null,
            "flex": null,
            "_model_name": "LayoutModel",
            "justify_items": null,
            "grid_row": null,
            "max_height": null,
            "align_content": null,
            "visibility": null,
            "align_self": null,
            "height": null,
            "min_height": null,
            "padding": null,
            "grid_auto_rows": null,
            "grid_gap": null,
            "max_width": null,
            "order": null,
            "_view_module_version": "1.2.0",
            "grid_template_areas": null,
            "object_position": null,
            "object_fit": null,
            "grid_auto_columns": null,
            "margin": null,
            "display": null,
            "left": null
          }
        },
        "79d3d50fc41a4d2aaed8890968be64d1": {
          "model_module": "@jupyter-widgets/controls",
          "model_name": "ProgressStyleModel",
          "model_module_version": "1.5.0",
          "state": {
            "_view_name": "StyleView",
            "_model_name": "ProgressStyleModel",
            "description_width": "",
            "_view_module": "@jupyter-widgets/base",
            "_model_module_version": "1.5.0",
            "_view_count": null,
            "_view_module_version": "1.2.0",
            "bar_color": null,
            "_model_module": "@jupyter-widgets/controls"
          }
        },
        "b3f5dddc20224633ae719ce7d909ed0a": {
          "model_module": "@jupyter-widgets/base",
          "model_name": "LayoutModel",
          "model_module_version": "1.2.0",
          "state": {
            "_view_name": "LayoutView",
            "grid_template_rows": null,
            "right": null,
            "justify_content": null,
            "_view_module": "@jupyter-widgets/base",
            "overflow": null,
            "_model_module_version": "1.2.0",
            "_view_count": null,
            "flex_flow": null,
            "width": null,
            "min_width": null,
            "border": null,
            "align_items": null,
            "bottom": null,
            "_model_module": "@jupyter-widgets/base",
            "top": null,
            "grid_column": null,
            "overflow_y": null,
            "overflow_x": null,
            "grid_auto_flow": null,
            "grid_area": null,
            "grid_template_columns": null,
            "flex": null,
            "_model_name": "LayoutModel",
            "justify_items": null,
            "grid_row": null,
            "max_height": null,
            "align_content": null,
            "visibility": null,
            "align_self": null,
            "height": null,
            "min_height": null,
            "padding": null,
            "grid_auto_rows": null,
            "grid_gap": null,
            "max_width": null,
            "order": null,
            "_view_module_version": "1.2.0",
            "grid_template_areas": null,
            "object_position": null,
            "object_fit": null,
            "grid_auto_columns": null,
            "margin": null,
            "display": null,
            "left": null
          }
        },
        "4b44d53e19d941dbb894180a4037ec00": {
          "model_module": "@jupyter-widgets/controls",
          "model_name": "DescriptionStyleModel",
          "model_module_version": "1.5.0",
          "state": {
            "_view_name": "StyleView",
            "_model_name": "DescriptionStyleModel",
            "description_width": "",
            "_view_module": "@jupyter-widgets/base",
            "_model_module_version": "1.5.0",
            "_view_count": null,
            "_view_module_version": "1.2.0",
            "_model_module": "@jupyter-widgets/controls"
          }
        },
        "3621163ce3234d68bcde422c45ff00af": {
          "model_module": "@jupyter-widgets/base",
          "model_name": "LayoutModel",
          "model_module_version": "1.2.0",
          "state": {
            "_view_name": "LayoutView",
            "grid_template_rows": null,
            "right": null,
            "justify_content": null,
            "_view_module": "@jupyter-widgets/base",
            "overflow": null,
            "_model_module_version": "1.2.0",
            "_view_count": null,
            "flex_flow": null,
            "width": null,
            "min_width": null,
            "border": null,
            "align_items": null,
            "bottom": null,
            "_model_module": "@jupyter-widgets/base",
            "top": null,
            "grid_column": null,
            "overflow_y": null,
            "overflow_x": null,
            "grid_auto_flow": null,
            "grid_area": null,
            "grid_template_columns": null,
            "flex": null,
            "_model_name": "LayoutModel",
            "justify_items": null,
            "grid_row": null,
            "max_height": null,
            "align_content": null,
            "visibility": null,
            "align_self": null,
            "height": null,
            "min_height": null,
            "padding": null,
            "grid_auto_rows": null,
            "grid_gap": null,
            "max_width": null,
            "order": null,
            "_view_module_version": "1.2.0",
            "grid_template_areas": null,
            "object_position": null,
            "object_fit": null,
            "grid_auto_columns": null,
            "margin": null,
            "display": null,
            "left": null
          }
        },
        "0b3f750b9c58452faf74f30c8453c9ff": {
          "model_module": "@jupyter-widgets/controls",
          "model_name": "HBoxModel",
          "model_module_version": "1.5.0",
          "state": {
            "_view_name": "HBoxView",
            "_dom_classes": [],
            "_model_name": "HBoxModel",
            "_view_module": "@jupyter-widgets/controls",
            "_model_module_version": "1.5.0",
            "_view_count": null,
            "_view_module_version": "1.5.0",
            "box_style": "",
            "layout": "IPY_MODEL_8ef59f1b462d41c1bb6e9882e824b36d",
            "_model_module": "@jupyter-widgets/controls",
            "children": [
              "IPY_MODEL_01b7455fd0994e23bc06e3c77377214e",
              "IPY_MODEL_9b1200cac9424950b312cfde3f8f4879",
              "IPY_MODEL_58683a2e5c3443e49dcb724c648bb63c"
            ]
          }
        },
        "8ef59f1b462d41c1bb6e9882e824b36d": {
          "model_module": "@jupyter-widgets/base",
          "model_name": "LayoutModel",
          "model_module_version": "1.2.0",
          "state": {
            "_view_name": "LayoutView",
            "grid_template_rows": null,
            "right": null,
            "justify_content": null,
            "_view_module": "@jupyter-widgets/base",
            "overflow": null,
            "_model_module_version": "1.2.0",
            "_view_count": null,
            "flex_flow": null,
            "width": null,
            "min_width": null,
            "border": null,
            "align_items": null,
            "bottom": null,
            "_model_module": "@jupyter-widgets/base",
            "top": null,
            "grid_column": null,
            "overflow_y": null,
            "overflow_x": null,
            "grid_auto_flow": null,
            "grid_area": null,
            "grid_template_columns": null,
            "flex": null,
            "_model_name": "LayoutModel",
            "justify_items": null,
            "grid_row": null,
            "max_height": null,
            "align_content": null,
            "visibility": null,
            "align_self": null,
            "height": null,
            "min_height": null,
            "padding": null,
            "grid_auto_rows": null,
            "grid_gap": null,
            "max_width": null,
            "order": null,
            "_view_module_version": "1.2.0",
            "grid_template_areas": null,
            "object_position": null,
            "object_fit": null,
            "grid_auto_columns": null,
            "margin": null,
            "display": null,
            "left": null
          }
        },
        "01b7455fd0994e23bc06e3c77377214e": {
          "model_module": "@jupyter-widgets/controls",
          "model_name": "HTMLModel",
          "model_module_version": "1.5.0",
          "state": {
            "_view_name": "HTMLView",
            "style": "IPY_MODEL_3011a4f417ba4fef8533a727a0ccba34",
            "_dom_classes": [],
            "description": "",
            "_model_name": "HTMLModel",
            "placeholder": "​",
            "_view_module": "@jupyter-widgets/controls",
            "_model_module_version": "1.5.0",
            "value": "Downloading: 100%",
            "_view_count": null,
            "_view_module_version": "1.5.0",
            "description_tooltip": null,
            "_model_module": "@jupyter-widgets/controls",
            "layout": "IPY_MODEL_33fef75df7e740f3b715e3091590f2f9"
          }
        },
        "9b1200cac9424950b312cfde3f8f4879": {
          "model_module": "@jupyter-widgets/controls",
          "model_name": "FloatProgressModel",
          "model_module_version": "1.5.0",
          "state": {
            "_view_name": "ProgressView",
            "style": "IPY_MODEL_ca791243d2014cf583896d8cc60f23a0",
            "_dom_classes": [],
            "description": "",
            "_model_name": "FloatProgressModel",
            "bar_style": "success",
            "max": 150,
            "_view_module": "@jupyter-widgets/controls",
            "_model_module_version": "1.5.0",
            "value": 150,
            "_view_count": null,
            "_view_module_version": "1.5.0",
            "orientation": "horizontal",
            "min": 0,
            "description_tooltip": null,
            "_model_module": "@jupyter-widgets/controls",
            "layout": "IPY_MODEL_9d0a1ec280004663acaf591ba30328f5"
          }
        },
        "58683a2e5c3443e49dcb724c648bb63c": {
          "model_module": "@jupyter-widgets/controls",
          "model_name": "HTMLModel",
          "model_module_version": "1.5.0",
          "state": {
            "_view_name": "HTMLView",
            "style": "IPY_MODEL_990d68c0fa514401a15c54a331d543a3",
            "_dom_classes": [],
            "description": "",
            "_model_name": "HTMLModel",
            "placeholder": "​",
            "_view_module": "@jupyter-widgets/controls",
            "_model_module_version": "1.5.0",
            "value": " 150/150 [00:00&lt;00:00, 5.81kB/s]",
            "_view_count": null,
            "_view_module_version": "1.5.0",
            "description_tooltip": null,
            "_model_module": "@jupyter-widgets/controls",
            "layout": "IPY_MODEL_8678cdcf2c134de8aa2612f112c739bf"
          }
        },
        "3011a4f417ba4fef8533a727a0ccba34": {
          "model_module": "@jupyter-widgets/controls",
          "model_name": "DescriptionStyleModel",
          "model_module_version": "1.5.0",
          "state": {
            "_view_name": "StyleView",
            "_model_name": "DescriptionStyleModel",
            "description_width": "",
            "_view_module": "@jupyter-widgets/base",
            "_model_module_version": "1.5.0",
            "_view_count": null,
            "_view_module_version": "1.2.0",
            "_model_module": "@jupyter-widgets/controls"
          }
        },
        "33fef75df7e740f3b715e3091590f2f9": {
          "model_module": "@jupyter-widgets/base",
          "model_name": "LayoutModel",
          "model_module_version": "1.2.0",
          "state": {
            "_view_name": "LayoutView",
            "grid_template_rows": null,
            "right": null,
            "justify_content": null,
            "_view_module": "@jupyter-widgets/base",
            "overflow": null,
            "_model_module_version": "1.2.0",
            "_view_count": null,
            "flex_flow": null,
            "width": null,
            "min_width": null,
            "border": null,
            "align_items": null,
            "bottom": null,
            "_model_module": "@jupyter-widgets/base",
            "top": null,
            "grid_column": null,
            "overflow_y": null,
            "overflow_x": null,
            "grid_auto_flow": null,
            "grid_area": null,
            "grid_template_columns": null,
            "flex": null,
            "_model_name": "LayoutModel",
            "justify_items": null,
            "grid_row": null,
            "max_height": null,
            "align_content": null,
            "visibility": null,
            "align_self": null,
            "height": null,
            "min_height": null,
            "padding": null,
            "grid_auto_rows": null,
            "grid_gap": null,
            "max_width": null,
            "order": null,
            "_view_module_version": "1.2.0",
            "grid_template_areas": null,
            "object_position": null,
            "object_fit": null,
            "grid_auto_columns": null,
            "margin": null,
            "display": null,
            "left": null
          }
        },
        "ca791243d2014cf583896d8cc60f23a0": {
          "model_module": "@jupyter-widgets/controls",
          "model_name": "ProgressStyleModel",
          "model_module_version": "1.5.0",
          "state": {
            "_view_name": "StyleView",
            "_model_name": "ProgressStyleModel",
            "description_width": "",
            "_view_module": "@jupyter-widgets/base",
            "_model_module_version": "1.5.0",
            "_view_count": null,
            "_view_module_version": "1.2.0",
            "bar_color": null,
            "_model_module": "@jupyter-widgets/controls"
          }
        },
        "9d0a1ec280004663acaf591ba30328f5": {
          "model_module": "@jupyter-widgets/base",
          "model_name": "LayoutModel",
          "model_module_version": "1.2.0",
          "state": {
            "_view_name": "LayoutView",
            "grid_template_rows": null,
            "right": null,
            "justify_content": null,
            "_view_module": "@jupyter-widgets/base",
            "overflow": null,
            "_model_module_version": "1.2.0",
            "_view_count": null,
            "flex_flow": null,
            "width": null,
            "min_width": null,
            "border": null,
            "align_items": null,
            "bottom": null,
            "_model_module": "@jupyter-widgets/base",
            "top": null,
            "grid_column": null,
            "overflow_y": null,
            "overflow_x": null,
            "grid_auto_flow": null,
            "grid_area": null,
            "grid_template_columns": null,
            "flex": null,
            "_model_name": "LayoutModel",
            "justify_items": null,
            "grid_row": null,
            "max_height": null,
            "align_content": null,
            "visibility": null,
            "align_self": null,
            "height": null,
            "min_height": null,
            "padding": null,
            "grid_auto_rows": null,
            "grid_gap": null,
            "max_width": null,
            "order": null,
            "_view_module_version": "1.2.0",
            "grid_template_areas": null,
            "object_position": null,
            "object_fit": null,
            "grid_auto_columns": null,
            "margin": null,
            "display": null,
            "left": null
          }
        },
        "990d68c0fa514401a15c54a331d543a3": {
          "model_module": "@jupyter-widgets/controls",
          "model_name": "DescriptionStyleModel",
          "model_module_version": "1.5.0",
          "state": {
            "_view_name": "StyleView",
            "_model_name": "DescriptionStyleModel",
            "description_width": "",
            "_view_module": "@jupyter-widgets/base",
            "_model_module_version": "1.5.0",
            "_view_count": null,
            "_view_module_version": "1.2.0",
            "_model_module": "@jupyter-widgets/controls"
          }
        },
        "8678cdcf2c134de8aa2612f112c739bf": {
          "model_module": "@jupyter-widgets/base",
          "model_name": "LayoutModel",
          "model_module_version": "1.2.0",
          "state": {
            "_view_name": "LayoutView",
            "grid_template_rows": null,
            "right": null,
            "justify_content": null,
            "_view_module": "@jupyter-widgets/base",
            "overflow": null,
            "_model_module_version": "1.2.0",
            "_view_count": null,
            "flex_flow": null,
            "width": null,
            "min_width": null,
            "border": null,
            "align_items": null,
            "bottom": null,
            "_model_module": "@jupyter-widgets/base",
            "top": null,
            "grid_column": null,
            "overflow_y": null,
            "overflow_x": null,
            "grid_auto_flow": null,
            "grid_area": null,
            "grid_template_columns": null,
            "flex": null,
            "_model_name": "LayoutModel",
            "justify_items": null,
            "grid_row": null,
            "max_height": null,
            "align_content": null,
            "visibility": null,
            "align_self": null,
            "height": null,
            "min_height": null,
            "padding": null,
            "grid_auto_rows": null,
            "grid_gap": null,
            "max_width": null,
            "order": null,
            "_view_module_version": "1.2.0",
            "grid_template_areas": null,
            "object_position": null,
            "object_fit": null,
            "grid_auto_columns": null,
            "margin": null,
            "display": null,
            "left": null
          }
        }
      }
    },
    "accelerator": "GPU"
  },
  "cells": [
    {
      "cell_type": "markdown",
      "metadata": {
        "id": "view-in-github",
        "colab_type": "text"
      },
      "source": [
        "<a href=\"https://colab.research.google.com/github/clayton-summitt/w266-final/blob/main/XLM_T_Fine_tuning_on_custom_datasets.ipynb\" target=\"_parent\"><img src=\"https://colab.research.google.com/assets/colab-badge.svg\" alt=\"Open In Colab\"/></a>"
      ]
    },
    {
      "cell_type": "code",
      "metadata": {
        "id": "nKftOu9fyC8R",
        "outputId": "102faad9-4156-40ff-eed9-6f32551d2757",
        "colab": {
          "base_uri": "https://localhost:8080/"
        }
      },
      "source": [
        "# !pip install --upgrade pip\n",
        "!pip install sentencepiece\n",
        "!pip install datasets\n",
        "!pip install transformers"
      ],
      "execution_count": 2,
      "outputs": [
        {
          "output_type": "stream",
          "name": "stdout",
          "text": [
            "Collecting sentencepiece\n",
            "  Downloading sentencepiece-0.1.96-cp37-cp37m-manylinux_2_17_x86_64.manylinux2014_x86_64.whl (1.2 MB)\n",
            "\u001b[?25l\r\u001b[K     |▎                               | 10 kB 31.8 MB/s eta 0:00:01\r\u001b[K     |▌                               | 20 kB 35.4 MB/s eta 0:00:01\r\u001b[K     |▉                               | 30 kB 42.7 MB/s eta 0:00:01\r\u001b[K     |█                               | 40 kB 30.6 MB/s eta 0:00:01\r\u001b[K     |█▍                              | 51 kB 16.7 MB/s eta 0:00:01\r\u001b[K     |█▋                              | 61 kB 14.7 MB/s eta 0:00:01\r\u001b[K     |██                              | 71 kB 13.7 MB/s eta 0:00:01\r\u001b[K     |██▏                             | 81 kB 15.2 MB/s eta 0:00:01\r\u001b[K     |██▍                             | 92 kB 16.8 MB/s eta 0:00:01\r\u001b[K     |██▊                             | 102 kB 12.8 MB/s eta 0:00:01\r\u001b[K     |███                             | 112 kB 12.8 MB/s eta 0:00:01\r\u001b[K     |███▎                            | 122 kB 12.8 MB/s eta 0:00:01\r\u001b[K     |███▌                            | 133 kB 12.8 MB/s eta 0:00:01\r\u001b[K     |███▉                            | 143 kB 12.8 MB/s eta 0:00:01\r\u001b[K     |████                            | 153 kB 12.8 MB/s eta 0:00:01\r\u001b[K     |████▎                           | 163 kB 12.8 MB/s eta 0:00:01\r\u001b[K     |████▋                           | 174 kB 12.8 MB/s eta 0:00:01\r\u001b[K     |████▉                           | 184 kB 12.8 MB/s eta 0:00:01\r\u001b[K     |█████▏                          | 194 kB 12.8 MB/s eta 0:00:01\r\u001b[K     |█████▍                          | 204 kB 12.8 MB/s eta 0:00:01\r\u001b[K     |█████▊                          | 215 kB 12.8 MB/s eta 0:00:01\r\u001b[K     |██████                          | 225 kB 12.8 MB/s eta 0:00:01\r\u001b[K     |██████▏                         | 235 kB 12.8 MB/s eta 0:00:01\r\u001b[K     |██████▌                         | 245 kB 12.8 MB/s eta 0:00:01\r\u001b[K     |██████▊                         | 256 kB 12.8 MB/s eta 0:00:01\r\u001b[K     |███████                         | 266 kB 12.8 MB/s eta 0:00:01\r\u001b[K     |███████▎                        | 276 kB 12.8 MB/s eta 0:00:01\r\u001b[K     |███████▋                        | 286 kB 12.8 MB/s eta 0:00:01\r\u001b[K     |███████▉                        | 296 kB 12.8 MB/s eta 0:00:01\r\u001b[K     |████████                        | 307 kB 12.8 MB/s eta 0:00:01\r\u001b[K     |████████▍                       | 317 kB 12.8 MB/s eta 0:00:01\r\u001b[K     |████████▋                       | 327 kB 12.8 MB/s eta 0:00:01\r\u001b[K     |█████████                       | 337 kB 12.8 MB/s eta 0:00:01\r\u001b[K     |█████████▏                      | 348 kB 12.8 MB/s eta 0:00:01\r\u001b[K     |█████████▌                      | 358 kB 12.8 MB/s eta 0:00:01\r\u001b[K     |█████████▊                      | 368 kB 12.8 MB/s eta 0:00:01\r\u001b[K     |██████████                      | 378 kB 12.8 MB/s eta 0:00:01\r\u001b[K     |██████████▎                     | 389 kB 12.8 MB/s eta 0:00:01\r\u001b[K     |██████████▌                     | 399 kB 12.8 MB/s eta 0:00:01\r\u001b[K     |██████████▉                     | 409 kB 12.8 MB/s eta 0:00:01\r\u001b[K     |███████████                     | 419 kB 12.8 MB/s eta 0:00:01\r\u001b[K     |███████████▍                    | 430 kB 12.8 MB/s eta 0:00:01\r\u001b[K     |███████████▋                    | 440 kB 12.8 MB/s eta 0:00:01\r\u001b[K     |███████████▉                    | 450 kB 12.8 MB/s eta 0:00:01\r\u001b[K     |████████████▏                   | 460 kB 12.8 MB/s eta 0:00:01\r\u001b[K     |████████████▍                   | 471 kB 12.8 MB/s eta 0:00:01\r\u001b[K     |████████████▊                   | 481 kB 12.8 MB/s eta 0:00:01\r\u001b[K     |█████████████                   | 491 kB 12.8 MB/s eta 0:00:01\r\u001b[K     |█████████████▎                  | 501 kB 12.8 MB/s eta 0:00:01\r\u001b[K     |█████████████▌                  | 512 kB 12.8 MB/s eta 0:00:01\r\u001b[K     |█████████████▊                  | 522 kB 12.8 MB/s eta 0:00:01\r\u001b[K     |██████████████                  | 532 kB 12.8 MB/s eta 0:00:01\r\u001b[K     |██████████████▎                 | 542 kB 12.8 MB/s eta 0:00:01\r\u001b[K     |██████████████▋                 | 552 kB 12.8 MB/s eta 0:00:01\r\u001b[K     |██████████████▉                 | 563 kB 12.8 MB/s eta 0:00:01\r\u001b[K     |███████████████▏                | 573 kB 12.8 MB/s eta 0:00:01\r\u001b[K     |███████████████▍                | 583 kB 12.8 MB/s eta 0:00:01\r\u001b[K     |███████████████▋                | 593 kB 12.8 MB/s eta 0:00:01\r\u001b[K     |████████████████                | 604 kB 12.8 MB/s eta 0:00:01\r\u001b[K     |████████████████▏               | 614 kB 12.8 MB/s eta 0:00:01\r\u001b[K     |████████████████▌               | 624 kB 12.8 MB/s eta 0:00:01\r\u001b[K     |████████████████▊               | 634 kB 12.8 MB/s eta 0:00:01\r\u001b[K     |█████████████████               | 645 kB 12.8 MB/s eta 0:00:01\r\u001b[K     |█████████████████▎              | 655 kB 12.8 MB/s eta 0:00:01\r\u001b[K     |█████████████████▌              | 665 kB 12.8 MB/s eta 0:00:01\r\u001b[K     |█████████████████▉              | 675 kB 12.8 MB/s eta 0:00:01\r\u001b[K     |██████████████████              | 686 kB 12.8 MB/s eta 0:00:01\r\u001b[K     |██████████████████▍             | 696 kB 12.8 MB/s eta 0:00:01\r\u001b[K     |██████████████████▋             | 706 kB 12.8 MB/s eta 0:00:01\r\u001b[K     |███████████████████             | 716 kB 12.8 MB/s eta 0:00:01\r\u001b[K     |███████████████████▏            | 727 kB 12.8 MB/s eta 0:00:01\r\u001b[K     |███████████████████▍            | 737 kB 12.8 MB/s eta 0:00:01\r\u001b[K     |███████████████████▊            | 747 kB 12.8 MB/s eta 0:00:01\r\u001b[K     |████████████████████            | 757 kB 12.8 MB/s eta 0:00:01\r\u001b[K     |████████████████████▎           | 768 kB 12.8 MB/s eta 0:00:01\r\u001b[K     |████████████████████▌           | 778 kB 12.8 MB/s eta 0:00:01\r\u001b[K     |████████████████████▉           | 788 kB 12.8 MB/s eta 0:00:01\r\u001b[K     |█████████████████████           | 798 kB 12.8 MB/s eta 0:00:01\r\u001b[K     |█████████████████████▎          | 808 kB 12.8 MB/s eta 0:00:01\r\u001b[K     |█████████████████████▋          | 819 kB 12.8 MB/s eta 0:00:01\r\u001b[K     |█████████████████████▉          | 829 kB 12.8 MB/s eta 0:00:01\r\u001b[K     |██████████████████████▏         | 839 kB 12.8 MB/s eta 0:00:01\r\u001b[K     |██████████████████████▍         | 849 kB 12.8 MB/s eta 0:00:01\r\u001b[K     |██████████████████████▊         | 860 kB 12.8 MB/s eta 0:00:01\r\u001b[K     |███████████████████████         | 870 kB 12.8 MB/s eta 0:00:01\r\u001b[K     |███████████████████████▏        | 880 kB 12.8 MB/s eta 0:00:01\r\u001b[K     |███████████████████████▌        | 890 kB 12.8 MB/s eta 0:00:01\r\u001b[K     |███████████████████████▊        | 901 kB 12.8 MB/s eta 0:00:01\r\u001b[K     |████████████████████████        | 911 kB 12.8 MB/s eta 0:00:01\r\u001b[K     |████████████████████████▎       | 921 kB 12.8 MB/s eta 0:00:01\r\u001b[K     |████████████████████████▋       | 931 kB 12.8 MB/s eta 0:00:01\r\u001b[K     |████████████████████████▉       | 942 kB 12.8 MB/s eta 0:00:01\r\u001b[K     |█████████████████████████       | 952 kB 12.8 MB/s eta 0:00:01\r\u001b[K     |█████████████████████████▍      | 962 kB 12.8 MB/s eta 0:00:01\r\u001b[K     |█████████████████████████▋      | 972 kB 12.8 MB/s eta 0:00:01\r\u001b[K     |██████████████████████████      | 983 kB 12.8 MB/s eta 0:00:01\r\u001b[K     |██████████████████████████▏     | 993 kB 12.8 MB/s eta 0:00:01\r\u001b[K     |██████████████████████████▌     | 1.0 MB 12.8 MB/s eta 0:00:01\r\u001b[K     |██████████████████████████▊     | 1.0 MB 12.8 MB/s eta 0:00:01\r\u001b[K     |███████████████████████████     | 1.0 MB 12.8 MB/s eta 0:00:01\r\u001b[K     |███████████████████████████▎    | 1.0 MB 12.8 MB/s eta 0:00:01\r\u001b[K     |███████████████████████████▌    | 1.0 MB 12.8 MB/s eta 0:00:01\r\u001b[K     |███████████████████████████▉    | 1.1 MB 12.8 MB/s eta 0:00:01\r\u001b[K     |████████████████████████████    | 1.1 MB 12.8 MB/s eta 0:00:01\r\u001b[K     |████████████████████████████▍   | 1.1 MB 12.8 MB/s eta 0:00:01\r\u001b[K     |████████████████████████████▋   | 1.1 MB 12.8 MB/s eta 0:00:01\r\u001b[K     |████████████████████████████▉   | 1.1 MB 12.8 MB/s eta 0:00:01\r\u001b[K     |█████████████████████████████▏  | 1.1 MB 12.8 MB/s eta 0:00:01\r\u001b[K     |█████████████████████████████▍  | 1.1 MB 12.8 MB/s eta 0:00:01\r\u001b[K     |█████████████████████████████▊  | 1.1 MB 12.8 MB/s eta 0:00:01\r\u001b[K     |██████████████████████████████  | 1.1 MB 12.8 MB/s eta 0:00:01\r\u001b[K     |██████████████████████████████▎ | 1.1 MB 12.8 MB/s eta 0:00:01\r\u001b[K     |██████████████████████████████▌ | 1.2 MB 12.8 MB/s eta 0:00:01\r\u001b[K     |██████████████████████████████▊ | 1.2 MB 12.8 MB/s eta 0:00:01\r\u001b[K     |███████████████████████████████ | 1.2 MB 12.8 MB/s eta 0:00:01\r\u001b[K     |███████████████████████████████▎| 1.2 MB 12.8 MB/s eta 0:00:01\r\u001b[K     |███████████████████████████████▋| 1.2 MB 12.8 MB/s eta 0:00:01\r\u001b[K     |███████████████████████████████▉| 1.2 MB 12.8 MB/s eta 0:00:01\r\u001b[K     |████████████████████████████████| 1.2 MB 12.8 MB/s \n",
            "\u001b[?25hInstalling collected packages: sentencepiece\n",
            "Successfully installed sentencepiece-0.1.96\n",
            "Collecting datasets\n",
            "  Downloading datasets-1.16.1-py3-none-any.whl (298 kB)\n",
            "\u001b[K     |████████████████████████████████| 298 kB 14.5 MB/s \n",
            "\u001b[?25hRequirement already satisfied: numpy>=1.17 in /usr/local/lib/python3.7/dist-packages (from datasets) (1.19.5)\n",
            "Requirement already satisfied: importlib-metadata in /usr/local/lib/python3.7/dist-packages (from datasets) (4.8.2)\n",
            "Collecting aiohttp\n",
            "  Downloading aiohttp-3.8.1-cp37-cp37m-manylinux_2_5_x86_64.manylinux1_x86_64.manylinux_2_12_x86_64.manylinux2010_x86_64.whl (1.1 MB)\n",
            "\u001b[K     |████████████████████████████████| 1.1 MB 69.4 MB/s \n",
            "\u001b[?25hRequirement already satisfied: multiprocess in /usr/local/lib/python3.7/dist-packages (from datasets) (0.70.12.2)\n",
            "Collecting xxhash\n",
            "  Downloading xxhash-2.0.2-cp37-cp37m-manylinux2010_x86_64.whl (243 kB)\n",
            "\u001b[K     |████████████████████████████████| 243 kB 83.1 MB/s \n",
            "\u001b[?25hRequirement already satisfied: packaging in /usr/local/lib/python3.7/dist-packages (from datasets) (21.3)\n",
            "Requirement already satisfied: pandas in /usr/local/lib/python3.7/dist-packages (from datasets) (1.1.5)\n",
            "Collecting fsspec[http]>=2021.05.0\n",
            "  Downloading fsspec-2021.11.1-py3-none-any.whl (132 kB)\n",
            "\u001b[K     |████████████████████████████████| 132 kB 85.9 MB/s \n",
            "\u001b[?25hCollecting huggingface-hub<1.0.0,>=0.1.0\n",
            "  Downloading huggingface_hub-0.2.0-py3-none-any.whl (61 kB)\n",
            "\u001b[K     |████████████████████████████████| 61 kB 590 kB/s \n",
            "\u001b[?25hRequirement already satisfied: dill in /usr/local/lib/python3.7/dist-packages (from datasets) (0.3.4)\n",
            "Requirement already satisfied: pyarrow!=4.0.0,>=3.0.0 in /usr/local/lib/python3.7/dist-packages (from datasets) (3.0.0)\n",
            "Requirement already satisfied: requests>=2.19.0 in /usr/local/lib/python3.7/dist-packages (from datasets) (2.23.0)\n",
            "Requirement already satisfied: tqdm>=4.62.1 in /usr/local/lib/python3.7/dist-packages (from datasets) (4.62.3)\n",
            "Requirement already satisfied: filelock in /usr/local/lib/python3.7/dist-packages (from huggingface-hub<1.0.0,>=0.1.0->datasets) (3.4.0)\n",
            "Requirement already satisfied: typing-extensions>=3.7.4.3 in /usr/local/lib/python3.7/dist-packages (from huggingface-hub<1.0.0,>=0.1.0->datasets) (3.10.0.2)\n",
            "Requirement already satisfied: pyyaml in /usr/local/lib/python3.7/dist-packages (from huggingface-hub<1.0.0,>=0.1.0->datasets) (3.13)\n",
            "Requirement already satisfied: pyparsing!=3.0.5,>=2.0.2 in /usr/local/lib/python3.7/dist-packages (from packaging->datasets) (3.0.6)\n",
            "Requirement already satisfied: certifi>=2017.4.17 in /usr/local/lib/python3.7/dist-packages (from requests>=2.19.0->datasets) (2021.10.8)\n",
            "Requirement already satisfied: idna<3,>=2.5 in /usr/local/lib/python3.7/dist-packages (from requests>=2.19.0->datasets) (2.10)\n",
            "Requirement already satisfied: urllib3!=1.25.0,!=1.25.1,<1.26,>=1.21.1 in /usr/local/lib/python3.7/dist-packages (from requests>=2.19.0->datasets) (1.24.3)\n",
            "Requirement already satisfied: chardet<4,>=3.0.2 in /usr/local/lib/python3.7/dist-packages (from requests>=2.19.0->datasets) (3.0.4)\n",
            "Collecting frozenlist>=1.1.1\n",
            "  Downloading frozenlist-1.2.0-cp37-cp37m-manylinux_2_5_x86_64.manylinux1_x86_64.manylinux_2_12_x86_64.manylinux2010_x86_64.whl (192 kB)\n",
            "\u001b[K     |████████████████████████████████| 192 kB 82.2 MB/s \n",
            "\u001b[?25hCollecting async-timeout<5.0,>=4.0.0a3\n",
            "  Downloading async_timeout-4.0.1-py3-none-any.whl (5.7 kB)\n",
            "Collecting aiosignal>=1.1.2\n",
            "  Downloading aiosignal-1.2.0-py3-none-any.whl (8.2 kB)\n",
            "Requirement already satisfied: charset-normalizer<3.0,>=2.0 in /usr/local/lib/python3.7/dist-packages (from aiohttp->datasets) (2.0.8)\n",
            "Collecting yarl<2.0,>=1.0\n",
            "  Downloading yarl-1.7.2-cp37-cp37m-manylinux_2_5_x86_64.manylinux1_x86_64.manylinux_2_12_x86_64.manylinux2010_x86_64.whl (271 kB)\n",
            "\u001b[K     |████████████████████████████████| 271 kB 87.4 MB/s \n",
            "\u001b[?25hCollecting asynctest==0.13.0\n",
            "  Downloading asynctest-0.13.0-py3-none-any.whl (26 kB)\n",
            "Collecting multidict<7.0,>=4.5\n",
            "  Downloading multidict-5.2.0-cp37-cp37m-manylinux_2_5_x86_64.manylinux1_x86_64.manylinux_2_12_x86_64.manylinux2010_x86_64.whl (160 kB)\n",
            "\u001b[K     |████████████████████████████████| 160 kB 84.0 MB/s \n",
            "\u001b[?25hRequirement already satisfied: attrs>=17.3.0 in /usr/local/lib/python3.7/dist-packages (from aiohttp->datasets) (21.2.0)\n",
            "Requirement already satisfied: zipp>=0.5 in /usr/local/lib/python3.7/dist-packages (from importlib-metadata->datasets) (3.6.0)\n",
            "Requirement already satisfied: python-dateutil>=2.7.3 in /usr/local/lib/python3.7/dist-packages (from pandas->datasets) (2.8.2)\n",
            "Requirement already satisfied: pytz>=2017.2 in /usr/local/lib/python3.7/dist-packages (from pandas->datasets) (2018.9)\n",
            "Requirement already satisfied: six>=1.5 in /usr/local/lib/python3.7/dist-packages (from python-dateutil>=2.7.3->pandas->datasets) (1.15.0)\n",
            "Installing collected packages: multidict, frozenlist, yarl, asynctest, async-timeout, aiosignal, fsspec, aiohttp, xxhash, huggingface-hub, datasets\n",
            "Successfully installed aiohttp-3.8.1 aiosignal-1.2.0 async-timeout-4.0.1 asynctest-0.13.0 datasets-1.16.1 frozenlist-1.2.0 fsspec-2021.11.1 huggingface-hub-0.2.0 multidict-5.2.0 xxhash-2.0.2 yarl-1.7.2\n",
            "Collecting transformers\n",
            "  Downloading transformers-4.12.5-py3-none-any.whl (3.1 MB)\n",
            "\u001b[K     |████████████████████████████████| 3.1 MB 12.8 MB/s \n",
            "\u001b[?25hRequirement already satisfied: importlib-metadata in /usr/local/lib/python3.7/dist-packages (from transformers) (4.8.2)\n",
            "Collecting tokenizers<0.11,>=0.10.1\n",
            "  Downloading tokenizers-0.10.3-cp37-cp37m-manylinux_2_5_x86_64.manylinux1_x86_64.manylinux_2_12_x86_64.manylinux2010_x86_64.whl (3.3 MB)\n",
            "\u001b[K     |████████████████████████████████| 3.3 MB 72.4 MB/s \n",
            "\u001b[?25hRequirement already satisfied: numpy>=1.17 in /usr/local/lib/python3.7/dist-packages (from transformers) (1.19.5)\n",
            "Requirement already satisfied: filelock in /usr/local/lib/python3.7/dist-packages (from transformers) (3.4.0)\n",
            "Requirement already satisfied: packaging>=20.0 in /usr/local/lib/python3.7/dist-packages (from transformers) (21.3)\n",
            "Collecting sacremoses\n",
            "  Downloading sacremoses-0.0.46-py3-none-any.whl (895 kB)\n",
            "\u001b[K     |████████████████████████████████| 895 kB 60.4 MB/s \n",
            "\u001b[?25hRequirement already satisfied: huggingface-hub<1.0,>=0.1.0 in /usr/local/lib/python3.7/dist-packages (from transformers) (0.2.0)\n",
            "Requirement already satisfied: regex!=2019.12.17 in /usr/local/lib/python3.7/dist-packages (from transformers) (2019.12.20)\n",
            "Requirement already satisfied: requests in /usr/local/lib/python3.7/dist-packages (from transformers) (2.23.0)\n",
            "Collecting pyyaml>=5.1\n",
            "  Downloading PyYAML-6.0-cp37-cp37m-manylinux_2_5_x86_64.manylinux1_x86_64.manylinux_2_12_x86_64.manylinux2010_x86_64.whl (596 kB)\n",
            "\u001b[K     |████████████████████████████████| 596 kB 77.9 MB/s \n",
            "\u001b[?25hRequirement already satisfied: tqdm>=4.27 in /usr/local/lib/python3.7/dist-packages (from transformers) (4.62.3)\n",
            "Requirement already satisfied: typing-extensions>=3.7.4.3 in /usr/local/lib/python3.7/dist-packages (from huggingface-hub<1.0,>=0.1.0->transformers) (3.10.0.2)\n",
            "Requirement already satisfied: pyparsing!=3.0.5,>=2.0.2 in /usr/local/lib/python3.7/dist-packages (from packaging>=20.0->transformers) (3.0.6)\n",
            "Requirement already satisfied: zipp>=0.5 in /usr/local/lib/python3.7/dist-packages (from importlib-metadata->transformers) (3.6.0)\n",
            "Requirement already satisfied: certifi>=2017.4.17 in /usr/local/lib/python3.7/dist-packages (from requests->transformers) (2021.10.8)\n",
            "Requirement already satisfied: idna<3,>=2.5 in /usr/local/lib/python3.7/dist-packages (from requests->transformers) (2.10)\n",
            "Requirement already satisfied: urllib3!=1.25.0,!=1.25.1,<1.26,>=1.21.1 in /usr/local/lib/python3.7/dist-packages (from requests->transformers) (1.24.3)\n",
            "Requirement already satisfied: chardet<4,>=3.0.2 in /usr/local/lib/python3.7/dist-packages (from requests->transformers) (3.0.4)\n",
            "Requirement already satisfied: six in /usr/local/lib/python3.7/dist-packages (from sacremoses->transformers) (1.15.0)\n",
            "Requirement already satisfied: click in /usr/local/lib/python3.7/dist-packages (from sacremoses->transformers) (7.1.2)\n",
            "Requirement already satisfied: joblib in /usr/local/lib/python3.7/dist-packages (from sacremoses->transformers) (1.1.0)\n",
            "Installing collected packages: pyyaml, tokenizers, sacremoses, transformers\n",
            "  Attempting uninstall: pyyaml\n",
            "    Found existing installation: PyYAML 3.13\n",
            "    Uninstalling PyYAML-3.13:\n",
            "      Successfully uninstalled PyYAML-3.13\n",
            "Successfully installed pyyaml-6.0 sacremoses-0.0.46 tokenizers-0.10.3 transformers-4.12.5\n"
          ]
        }
      ]
    },
    {
      "cell_type": "markdown",
      "metadata": {
        "id": "_ykXokStcwGz"
      },
      "source": [
        "# Fine-tuning XLM-T\n",
        "\n",
        "This notebook describes a simple case of finetuning. You can finetune either the `XLM-T` language model, or XLM-T sentiment, which has already been fine-tuned on sentiment analysis data, in 8 languages (this could be useful to do sentiment transfer learning on new languages).,\n",
        "\n",
        "This notebook was modified from https://huggingface.co/transformers/custom_datasets.html"
      ]
    },
    {
      "cell_type": "code",
      "metadata": {
        "id": "Y5f1fFbETSbM"
      },
      "source": [
        "from transformers import AutoTokenizer\n",
        "from transformers import AutoModelForSequenceClassification, Trainer, TrainingArguments\n",
        "import torch\n",
        "\n",
        "import numpy as np\n",
        "from sklearn.metrics import classification_report"
      ],
      "execution_count": 3,
      "outputs": []
    },
    {
      "cell_type": "markdown",
      "metadata": {
        "id": "dtj1poj8yC8b"
      },
      "source": [
        "## Parameters"
      ]
    },
    {
      "cell_type": "code",
      "metadata": {
        "id": "r3OxewRLFaK1"
      },
      "source": [
        "LR = 2e-5\n",
        "EPOCHS = 1\n",
        "BATCH_SIZE = 32\n",
        "# MODEL = \"cardiffnlp/twitter-xlm-roberta-base\" # use this to finetune the language model\n",
        "MODEL = \"cardiffnlp/twitter-xlm-roberta-base-sentiment\" # use this to finetune the sentiment classifier\n",
        "MAX_TRAINING_EXAMPLES = -1 # set this to -1 if you want to use the whole training set"
      ],
      "execution_count": 4,
      "outputs": []
    },
    {
      "cell_type": "markdown",
      "metadata": {
        "id": "XWqZ7LGMFeHV"
      },
      "source": [
        "## Data"
      ]
    },
    {
      "cell_type": "markdown",
      "metadata": {
        "id": "a1A24j8pFhup"
      },
      "source": [
        "We download the xml-t sentiment dataset (`UMSAB`) but you can use your own.\n",
        "If you use the same files structures as [TweetEval](https://github.com/cardiffnlp/tweeteval) (`train_text.txt`, `train_labels.txt`, `val_text.txt`, `...`), you do not need to change anything in the code.\n",
        "\n",
        "---\n",
        "\n"
      ]
    },
    {
      "cell_type": "code",
      "metadata": {
        "id": "hxDt1EZIi4Ob",
        "outputId": "e8ff84a8-3105-439b-90b9-f95a5dfebd34",
        "colab": {
          "base_uri": "https://localhost:8080/"
        }
      },
      "source": [
        "from google.colab import files\n",
        "from google.colab import drive\n",
        "drive.mount('/content/drive' ,force_remount=True)\n",
        "import glob\n",
        "import os\n",
        "os.chdir(\"drive/MyDrive/vaccine/data/fine_tune_sentimnet/\")"
      ],
      "execution_count": 5,
      "outputs": [
        {
          "output_type": "stream",
          "name": "stdout",
          "text": [
            "Mounted at /content/drive\n"
          ]
        }
      ]
    },
    {
      "cell_type": "code",
      "metadata": {
        "id": "fvM2mCi2yC8c",
        "outputId": "65331c42-a19b-4736-d713-265978ecfcd5",
        "colab": {
          "base_uri": "https://localhost:8080/"
        }
      },
      "source": [
        "# loading dataset for UMSAB's all 8 languages\n",
        "\n",
        "files = \"\"\"test_labels.txt\n",
        "test_text.txt\n",
        "train_labels.txt\n",
        "train_text.txt\n",
        "val_labels.txt\n",
        "val_text.txt\"\"\".split('\\n')\n",
        "\n",
        "for f in files:\n",
        "  # p = f\"https://raw.githubusercontent.com/cardiffnlp/xlm-t/main/data/sentiment/all/{f}\"\n",
        "  !wget $f"
      ],
      "execution_count": 7,
      "outputs": [
        {
          "output_type": "stream",
          "name": "stdout",
          "text": [
            "--2021-12-01 17:06:48--  http://test_labels.txt/\n",
            "Resolving test_labels.txt (test_labels.txt)... failed: Name or service not known.\n",
            "wget: unable to resolve host address ‘test_labels.txt’\n",
            "--2021-12-01 17:06:48--  http://test_text.txt/\n",
            "Resolving test_text.txt (test_text.txt)... failed: Name or service not known.\n",
            "wget: unable to resolve host address ‘test_text.txt’\n",
            "--2021-12-01 17:06:48--  http://train_labels.txt/\n",
            "Resolving train_labels.txt (train_labels.txt)... failed: Name or service not known.\n",
            "wget: unable to resolve host address ‘train_labels.txt’\n",
            "--2021-12-01 17:06:49--  http://train_text.txt/\n",
            "Resolving train_text.txt (train_text.txt)... failed: Name or service not known.\n",
            "wget: unable to resolve host address ‘train_text.txt’\n",
            "--2021-12-01 17:06:49--  http://val_labels.txt/\n",
            "Resolving val_labels.txt (val_labels.txt)... failed: Name or service not known.\n",
            "wget: unable to resolve host address ‘val_labels.txt’\n",
            "--2021-12-01 17:06:49--  http://val_text.txt/\n",
            "Resolving val_text.txt (val_text.txt)... failed: Name or service not known.\n",
            "wget: unable to resolve host address ‘val_text.txt’\n"
          ]
        }
      ]
    },
    {
      "cell_type": "code",
      "metadata": {
        "id": "FHPfBZJrAQY_",
        "outputId": "7f8efbbd-d9d8-4f91-ac52-04792df8d0b0",
        "colab": {
          "base_uri": "https://localhost:8080/"
        }
      },
      "source": [
        "os.listdir()"
      ],
      "execution_count": 6,
      "outputs": [
        {
          "output_type": "execute_result",
          "data": {
            "text/plain": [
              "['mapping.txt',\n",
              " 'test_text.txt',\n",
              " 'test_labels.txt',\n",
              " 'train_text.txt',\n",
              " 'val_labels.txt',\n",
              " 'val_text.txt',\n",
              " 'train_labels.txt']"
            ]
          },
          "metadata": {},
          "execution_count": 6
        }
      ]
    },
    {
      "cell_type": "code",
      "metadata": {
        "id": "DqNPXQg7GSn3"
      },
      "source": [
        "\n",
        "dataset_dict = {}\n",
        "for i in ['train','val','test']:\n",
        "  dataset_dict[i] = {}\n",
        "  for j in ['text','labels']:\n",
        "    dataset_dict[i][j] = open(f\"{i}_{j}.txt\").read().split('\\n')\n",
        "    dataset_dict[i][j].pop()\n",
        "    if j == 'labels':\n",
        "      \n",
        "      dataset_dict[i][j] = [int(x) for x in dataset_dict[i][j]]\n",
        "\n",
        "if MAX_TRAINING_EXAMPLES > 0:\n",
        "  dataset_dict['train']['text']=dataset_dict['train']['text'][:MAX_TRAINING_EXAMPLES]\n",
        "  dataset_dict['train']['labels']=dataset_dict['train']['labels'][:MAX_TRAINING_EXAMPLES]"
      ],
      "execution_count": 7,
      "outputs": []
    },
    {
      "cell_type": "code",
      "metadata": {
        "id": "vaccW3ZO1vPU",
        "outputId": "5cafa4f0-cb78-46cd-aee5-eeadad5d8bb5",
        "colab": {
          "base_uri": "https://localhost:8080/",
          "height": 35
        }
      },
      "source": [
        ""
      ],
      "execution_count": 26,
      "outputs": [
        {
          "output_type": "execute_result",
          "data": {
            "application/vnd.google.colaboratory.intrinsic+json": {
              "type": "string"
            },
            "text/plain": [
              "''"
            ]
          },
          "metadata": {},
          "execution_count": 26
        }
      ]
    },
    {
      "cell_type": "code",
      "metadata": {
        "id": "1IjMOsNSyC8d",
        "colab": {
          "base_uri": "https://localhost:8080/",
          "height": 113,
          "referenced_widgets": [
            "9b2b5f79da334c19b409a093dc0fbc6f",
            "9aa23260028d4f4eb29d5b85bbd7dcf8",
            "d800339eb7a04efabefcb938a4232eed",
            "1287f5ecbf4b40a4aeb3ee754e2aa122",
            "35e64627741d450a9ea24c7d77ad8b8f",
            "853287abd37c4a87aff5c81e8c6c2d16",
            "f2dd851b1b6443838c4f95305ac1d660",
            "d2624417bb6740db97b028f8dd7571d3",
            "c644b0268e5341048034af010d759f26",
            "771c17204f004746b4e84530f3981ec2",
            "5024dc16e5c44d80ab31c2eddf42ab47",
            "2929002244ae4efba46ddd4b69fe7b22",
            "cbc394d5662848e6b730088b3b06c931",
            "6621a038d6d44152be17cad25f750798",
            "32aec36d43a84f3bb3f556857277385d",
            "3e3e479011f047eca2d74f86df5c8164",
            "a21bd6773a354ebc8ce389819c898cf8",
            "cfa08f3ea06c4bc084759020d17f02c4",
            "79d3d50fc41a4d2aaed8890968be64d1",
            "b3f5dddc20224633ae719ce7d909ed0a",
            "4b44d53e19d941dbb894180a4037ec00",
            "3621163ce3234d68bcde422c45ff00af",
            "0b3f750b9c58452faf74f30c8453c9ff",
            "8ef59f1b462d41c1bb6e9882e824b36d",
            "01b7455fd0994e23bc06e3c77377214e",
            "9b1200cac9424950b312cfde3f8f4879",
            "58683a2e5c3443e49dcb724c648bb63c",
            "3011a4f417ba4fef8533a727a0ccba34",
            "33fef75df7e740f3b715e3091590f2f9",
            "ca791243d2014cf583896d8cc60f23a0",
            "9d0a1ec280004663acaf591ba30328f5",
            "990d68c0fa514401a15c54a331d543a3",
            "8678cdcf2c134de8aa2612f112c739bf"
          ]
        },
        "outputId": "d6f3a9fc-a082-4154-fc2a-02586f929c2e"
      },
      "source": [
        "\n",
        "tokenizer = AutoTokenizer.from_pretrained(MODEL, use_fast=True)"
      ],
      "execution_count": 8,
      "outputs": [
        {
          "output_type": "display_data",
          "data": {
            "application/vnd.jupyter.widget-view+json": {
              "model_id": "9b2b5f79da334c19b409a093dc0fbc6f",
              "version_minor": 0,
              "version_major": 2
            },
            "text/plain": [
              "Downloading:   0%|          | 0.00/841 [00:00<?, ?B/s]"
            ]
          },
          "metadata": {}
        },
        {
          "output_type": "display_data",
          "data": {
            "application/vnd.jupyter.widget-view+json": {
              "model_id": "2929002244ae4efba46ddd4b69fe7b22",
              "version_minor": 0,
              "version_major": 2
            },
            "text/plain": [
              "Downloading:   0%|          | 0.00/4.83M [00:00<?, ?B/s]"
            ]
          },
          "metadata": {}
        },
        {
          "output_type": "display_data",
          "data": {
            "application/vnd.jupyter.widget-view+json": {
              "model_id": "0b3f750b9c58452faf74f30c8453c9ff",
              "version_minor": 0,
              "version_major": 2
            },
            "text/plain": [
              "Downloading:   0%|          | 0.00/150 [00:00<?, ?B/s]"
            ]
          },
          "metadata": {}
        }
      ]
    },
    {
      "cell_type": "code",
      "metadata": {
        "id": "Rp0llWQVyC8e",
        "colab": {
          "base_uri": "https://localhost:8080/"
        },
        "outputId": "9913bc0f-8aa3-4fe7-8562-87aff13eea5a"
      },
      "source": [
        "train_encodings = tokenizer(dataset_dict['train']['text'], truncation=True, padding=True)\n",
        "val_encodings = tokenizer(dataset_dict['val']['text'], truncation=True, padding=True)\n",
        "test_encodings = tokenizer(dataset_dict['test']['text'], truncation=True, padding=True)"
      ],
      "execution_count": 9,
      "outputs": [
        {
          "output_type": "stream",
          "name": "stderr",
          "text": [
            "Asking to truncate to max_length but no maximum length is provided and the model has no predefined maximum length. Default to no truncation.\n"
          ]
        }
      ]
    },
    {
      "cell_type": "code",
      "metadata": {
        "id": "1MzkHFG5yC8f"
      },
      "source": [
        "class MyDataset(torch.utils.data.Dataset):\n",
        "    def __init__(self, encodings, labels):\n",
        "        self.encodings = encodings\n",
        "        self.labels = labels\n",
        "\n",
        "    def __getitem__(self, idx):\n",
        "        item = {key: torch.tensor(val[idx]) for key, val in self.encodings.items()}\n",
        "        item['labels'] = torch.tensor(self.labels[idx])\n",
        "        return item\n",
        "\n",
        "    def __len__(self):\n",
        "        return len(self.labels)\n",
        "\n",
        "train_dataset = MyDataset(train_encodings, dataset_dict['train']['labels'])\n",
        "val_dataset = MyDataset(val_encodings, dataset_dict['val']['labels'])\n",
        "test_dataset = MyDataset(test_encodings, dataset_dict['test']['labels'])"
      ],
      "execution_count": 10,
      "outputs": []
    },
    {
      "cell_type": "markdown",
      "metadata": {
        "id": "z_BTQBaJyC8g"
      },
      "source": [
        "## Fine-tuning"
      ]
    },
    {
      "cell_type": "markdown",
      "metadata": {
        "id": "zmp35MgkyC8g"
      },
      "source": [
        "The steps above prepared the datasets in the way that the trainer is expected. Now all we need to do is create a model\n",
        "to fine-tune, define the `TrainingArguments`/`TFTrainingArguments` and\n",
        "instantiate a `Trainer`/`TFTrainer`."
      ]
    },
    {
      "cell_type": "code",
      "metadata": {
        "id": "PGuho0dMyC8g"
      },
      "source": [
        "training_args = TrainingArguments(\n",
        "    output_dir='./results',                   # output directory\n",
        "    num_train_epochs=EPOCHS,                  # total number of training epochs\n",
        "    per_device_train_batch_size=BATCH_SIZE,   # batch size per device during training\n",
        "    per_device_eval_batch_size=BATCH_SIZE,    # batch size for evaluation\n",
        "    warmup_steps=100,                         # number of warmup steps for learning rate scheduler\n",
        "    weight_decay=0.01,                        # strength of weight decay\n",
        "    logging_dir='./logs',                     # directory for storing logs\n",
        "    logging_steps=10,                         # when to print log\n",
        "    save_strategy = \"steps\",\n",
        "    evaluation_strategy=\"steps\",                        \n",
        "    \n",
        "    load_best_model_at_end=True              # load or not best model at the end\n",
        ")\n",
        "\n",
        "num_labels = len(set(dataset_dict[\"train\"][\"labels\"]))\n",
        "model = AutoModelForSequenceClassification.from_pretrained(MODEL, num_labels=num_labels)"
      ],
      "execution_count": 16,
      "outputs": []
    },
    {
      "cell_type": "code",
      "metadata": {
        "id": "J7bArzixEAH-",
        "outputId": "f85bfcc6-aa70-41ad-abd9-2903dbe8f9a0",
        "colab": {
          "base_uri": "https://localhost:8080/",
          "height": 1000
        }
      },
      "source": [
        "trainer = Trainer(\n",
        "    model=model,                              # the instantiated 🤗 Transformers model to be trained\n",
        "    args=training_args,                       # training arguments, defined above\n",
        "    train_dataset=train_dataset,              # training dataset\n",
        "    eval_dataset=val_dataset                  # evaluation dataset\n",
        ")\n",
        "\n",
        "trainer.train()"
      ],
      "execution_count": 17,
      "outputs": [
        {
          "output_type": "stream",
          "name": "stderr",
          "text": [
            "***** Running training *****\n",
            "  Num examples = 4200\n",
            "  Num Epochs = 1\n",
            "  Instantaneous batch size per device = 32\n",
            "  Total train batch size (w. parallel, distributed & accumulation) = 32\n",
            "  Gradient Accumulation steps = 1\n",
            "  Total optimization steps = 132\n"
          ]
        },
        {
          "output_type": "display_data",
          "data": {
            "text/html": [
              "\n",
              "    <div>\n",
              "      \n",
              "      <progress value='132' max='132' style='width:300px; height:20px; vertical-align: middle;'></progress>\n",
              "      [132/132 00:51, Epoch 1/1]\n",
              "    </div>\n",
              "    <table border=\"1\" class=\"dataframe\">\n",
              "  <thead>\n",
              "    <tr style=\"text-align: left;\">\n",
              "      <th>Step</th>\n",
              "      <th>Training Loss</th>\n",
              "      <th>Validation Loss</th>\n",
              "    </tr>\n",
              "  </thead>\n",
              "  <tbody>\n",
              "    <tr>\n",
              "      <td>10</td>\n",
              "      <td>0.906000</td>\n",
              "      <td>0.814919</td>\n",
              "    </tr>\n",
              "    <tr>\n",
              "      <td>20</td>\n",
              "      <td>0.760000</td>\n",
              "      <td>0.734425</td>\n",
              "    </tr>\n",
              "    <tr>\n",
              "      <td>30</td>\n",
              "      <td>0.699900</td>\n",
              "      <td>0.714322</td>\n",
              "    </tr>\n",
              "    <tr>\n",
              "      <td>40</td>\n",
              "      <td>0.648100</td>\n",
              "      <td>0.669997</td>\n",
              "    </tr>\n",
              "    <tr>\n",
              "      <td>50</td>\n",
              "      <td>0.723100</td>\n",
              "      <td>0.628164</td>\n",
              "    </tr>\n",
              "    <tr>\n",
              "      <td>60</td>\n",
              "      <td>0.602000</td>\n",
              "      <td>0.613263</td>\n",
              "    </tr>\n",
              "    <tr>\n",
              "      <td>70</td>\n",
              "      <td>0.532100</td>\n",
              "      <td>0.575895</td>\n",
              "    </tr>\n",
              "    <tr>\n",
              "      <td>80</td>\n",
              "      <td>0.617600</td>\n",
              "      <td>0.587809</td>\n",
              "    </tr>\n",
              "    <tr>\n",
              "      <td>90</td>\n",
              "      <td>0.664400</td>\n",
              "      <td>0.605106</td>\n",
              "    </tr>\n",
              "    <tr>\n",
              "      <td>100</td>\n",
              "      <td>0.704400</td>\n",
              "      <td>0.546445</td>\n",
              "    </tr>\n",
              "    <tr>\n",
              "      <td>110</td>\n",
              "      <td>0.634200</td>\n",
              "      <td>0.549305</td>\n",
              "    </tr>\n",
              "    <tr>\n",
              "      <td>120</td>\n",
              "      <td>0.624300</td>\n",
              "      <td>0.502653</td>\n",
              "    </tr>\n",
              "    <tr>\n",
              "      <td>130</td>\n",
              "      <td>0.587400</td>\n",
              "      <td>0.510671</td>\n",
              "    </tr>\n",
              "  </tbody>\n",
              "</table><p>"
            ],
            "text/plain": [
              "<IPython.core.display.HTML object>"
            ]
          },
          "metadata": {}
        },
        {
          "output_type": "stream",
          "name": "stderr",
          "text": [
            "***** Running Evaluation *****\n",
            "  Num examples = 840\n",
            "  Batch size = 32\n",
            "***** Running Evaluation *****\n",
            "  Num examples = 840\n",
            "  Batch size = 32\n",
            "***** Running Evaluation *****\n",
            "  Num examples = 840\n",
            "  Batch size = 32\n",
            "***** Running Evaluation *****\n",
            "  Num examples = 840\n",
            "  Batch size = 32\n",
            "***** Running Evaluation *****\n",
            "  Num examples = 840\n",
            "  Batch size = 32\n",
            "***** Running Evaluation *****\n",
            "  Num examples = 840\n",
            "  Batch size = 32\n",
            "***** Running Evaluation *****\n",
            "  Num examples = 840\n",
            "  Batch size = 32\n",
            "***** Running Evaluation *****\n",
            "  Num examples = 840\n",
            "  Batch size = 32\n",
            "***** Running Evaluation *****\n",
            "  Num examples = 840\n",
            "  Batch size = 32\n",
            "***** Running Evaluation *****\n",
            "  Num examples = 840\n",
            "  Batch size = 32\n",
            "***** Running Evaluation *****\n",
            "  Num examples = 840\n",
            "  Batch size = 32\n",
            "***** Running Evaluation *****\n",
            "  Num examples = 840\n",
            "  Batch size = 32\n",
            "***** Running Evaluation *****\n",
            "  Num examples = 840\n",
            "  Batch size = 32\n",
            "\n",
            "\n",
            "Training completed. Do not forget to share your model on huggingface.co/models =)\n",
            "\n",
            "\n"
          ]
        },
        {
          "output_type": "execute_result",
          "data": {
            "text/plain": [
              "TrainOutput(global_step=132, training_loss=0.6669176988529436, metrics={'train_runtime': 51.9304, 'train_samples_per_second': 80.878, 'train_steps_per_second': 2.542, 'total_flos': 254685566066400.0, 'train_loss': 0.6669176988529436, 'epoch': 1.0})"
            ]
          },
          "metadata": {},
          "execution_count": 17
        }
      ]
    },
    {
      "cell_type": "code",
      "metadata": {
        "id": "Db-zlWQLXEVf",
        "outputId": "1d8c84bc-7381-417b-aaa1-02709c9f8c0b",
        "colab": {
          "base_uri": "https://localhost:8080/"
        }
      },
      "source": [
        "trainer.save_model(\"./results/best_model\") # save best model"
      ],
      "execution_count": 18,
      "outputs": [
        {
          "output_type": "stream",
          "name": "stderr",
          "text": [
            "Saving model checkpoint to ./results/best_model\n",
            "Configuration saved in ./results/best_model/config.json\n",
            "Model weights saved in ./results/best_model/pytorch_model.bin\n"
          ]
        }
      ]
    },
    {
      "cell_type": "markdown",
      "metadata": {
        "id": "Kr3--ZKNbn1t"
      },
      "source": [
        "## Evaluate on Test set"
      ]
    },
    {
      "cell_type": "code",
      "metadata": {
        "colab": {
          "base_uri": "https://localhost:8080/",
          "height": 267
        },
        "id": "hqeWwkSCXaKV",
        "outputId": "9bd7b2a5-97c4-496e-cd35-90817c164997"
      },
      "source": [
        "test_preds_raw, test_labels , _ = trainer.predict(test_dataset)\n",
        "test_preds = np.argmax(test_preds_raw, axis=-1)\n",
        "print(classification_report(test_labels, test_preds, digits=3))"
      ],
      "execution_count": 19,
      "outputs": [
        {
          "output_type": "stream",
          "name": "stderr",
          "text": [
            "***** Running Prediction *****\n",
            "  Num examples = 1800\n",
            "  Batch size = 32\n"
          ]
        },
        {
          "output_type": "display_data",
          "data": {
            "text/html": [
              "\n",
              "    <div>\n",
              "      \n",
              "      <progress value='57' max='57' style='width:300px; height:20px; vertical-align: middle;'></progress>\n",
              "      [57/57 00:03]\n",
              "    </div>\n",
              "    "
            ],
            "text/plain": [
              "<IPython.core.display.HTML object>"
            ]
          },
          "metadata": {}
        },
        {
          "output_type": "stream",
          "name": "stdout",
          "text": [
            "              precision    recall  f1-score   support\n",
            "\n",
            "           0      0.500     0.231     0.316       143\n",
            "           1      0.785     0.791     0.788      1078\n",
            "           2      0.662     0.741     0.699       579\n",
            "\n",
            "    accuracy                          0.731      1800\n",
            "   macro avg      0.649     0.588     0.601      1800\n",
            "weighted avg      0.723     0.731     0.722      1800\n",
            "\n"
          ]
        }
      ]
    },
    {
      "cell_type": "markdown",
      "metadata": {
        "id": "rLR23BxIyC8g"
      },
      "source": [
        "<a id='ft_native'></a>"
      ]
    }
  ]
}